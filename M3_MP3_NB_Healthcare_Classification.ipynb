{
  "nbformat": 4,
  "nbformat_minor": 0,
  "metadata": {
    "colab": {
      "provenance": [],
      "include_colab_link": true
    },
    "kernelspec": {
      "name": "python3",
      "display_name": "Python 3"
    },
    "language_info": {
      "name": "python"
    }
  },
  "cells": [
    {
      "cell_type": "markdown",
      "metadata": {
        "id": "view-in-github",
        "colab_type": "text"
      },
      "source": [
        "<a href=\"https://colab.research.google.com/github/bhuvanameganathan10/Predictive-sentiment-analysis/blob/main/M3_MP3_NB_Healthcare_Classification.ipynb\" target=\"_parent\"><img src=\"https://colab.research.google.com/assets/colab-badge.svg\" alt=\"Open In Colab\"/></a>"
      ]
    },
    {
      "cell_type": "markdown",
      "metadata": {
        "id": "tNM9EVzMZjT7"
      },
      "source": [
        "# Applied Data Science and Machine Learning\n",
        "## A program by IIT Madras and TalentSprint\n",
        "### Mini Project: Healthcare classification"
      ]
    },
    {
      "cell_type": "markdown",
      "source": [
        "## About Dataset\n",
        "###Context:\n",
        "This synthetic healthcare dataset has been created to serve as a valuable resource for data science, machine learning, and data analysis enthusiasts. It is designed to mimic real-world healthcare data, enabling users to practice, develop, and showcase their data manipulation and analysis skills in the context of the healthcare industry.\n",
        "\n",
        "###Inspiration:\n",
        "The inspiration behind this dataset is rooted in the need for practical and diverse healthcare data for educational and research purposes. Healthcare data is often sensitive and subject to privacy regulations, making it challenging to access for learning and experimentation. To address this gap, I have leveraged Python's Faker library to generate a dataset that mirrors the structure and attributes commonly found in healthcare records. By providing this synthetic data, I hope to foster innovation, learning, and knowledge sharing in the healthcare analytics domain.\n",
        "\n",
        "###Dataset Information:\n",
        "Each column provides specific information about the patient, their admission, and the healthcare services provided, making this dataset suitable for various data analysis and modeling tasks in the healthcare domain. Here's a brief explanation of each column in the dataset\n",
        "\n",
        "\n",
        "* **Name**: This column represents the name of the patient associated with the\n",
        "healthcare record.\n",
        "* **Age**: The age of the patient at the time of admission, expressed in years.\n",
        "* **Gender**: Indicates the gender of the patient, either \"Male\" or \"Female.\"\n",
        "* **Blood Type**: The patient's blood type, which can be one of the common blood types (e.g., \"A+\", \"O-\", etc.).\n",
        "* **Medical Condition**: This column specifies the primary medical condition or diagnosis associated with the patient, such as \"Diabetes,\" \"Hypertension,\" \"Asthma,\" and more.\n",
        "* **Date of Admission**: The date on which the patient was admitted to the healthcare facility.\n",
        "* **Doctor**: The name of the doctor responsible for the patient's care during their admission.\n",
        "* **Hospital**: Identifies the healthcare facility or hospital where the patient was admitted.\n",
        "* **Insurance Provider**: This column indicates the patient's insurance provider, which can be one of several options, including \"Aetna,\" \"Blue Cross,\" \"Cigna,\" \"UnitedHealthcare,\" and \"Medicare.\"\n",
        "* **Billing Amount**: The amount of money billed for the patient's healthcare services during their admission. This is expressed as a floating-point number.\n",
        "* **Room Number**: The room number where the patient was accommodated during their admission.\n",
        "* **Admission Type**: Specifies the type of admission, which can be \"Emergency,\" \"Elective,\" or \"Urgent,\" reflecting the circumstances of the admission.\n",
        "* **Discharge Date**: The date on which the patient was discharged from the healthcare facility, based on the admission date and a random number of days within a realistic range.\n",
        "* **Medication**: Identifies a medication prescribed or administered to the patient during their admission. Examples include \"Aspirin,\" \"Ibuprofen,\" \"Penicillin,\" \"Paracetamol,\" and \"Lipitor.\"\n",
        "* **Test Results**: Describes the results of a medical test conducted during the patient's admission. Possible values include \"Normal,\" \"Abnormal,\" or \"Inconclusive,\" indicating the outcome of the test."
      ],
      "metadata": {
        "id": "_wFVhodIhjD6"
      }
    },
    {
      "cell_type": "code",
      "execution_count": 13,
      "metadata": {
        "id": "82-MCqP0yFM2",
        "cellView": "form",
        "colab": {
          "base_uri": "https://localhost:8080/"
        },
        "outputId": "8f54f86d-cad8-4d60-d3e6-f4a47d76cc40"
      },
      "outputs": [
        {
          "output_type": "stream",
          "name": "stdout",
          "text": [
            "Downloading...\n",
            "From: https://drive.google.com/uc?id=1x6Lt9hOEkkAWar0Epz-HM8Dgjk0kUKlX&confirm=t\n",
            "To: /content/healthcare_dataset.csv\n",
            "\r  0% 0.00/8.40M [00:00<?, ?B/s]\r 75% 6.29M/8.40M [00:00<00:00, 57.6MB/s]\r100% 8.40M/8.40M [00:00<00:00, 64.5MB/s]\n"
          ]
        }
      ],
      "source": [
        "#@title Download dataset\n",
        "!gdown \"1x6Lt9hOEkkAWar0Epz-HM8Dgjk0kUKlX&confirm=t\""
      ]
    },
    {
      "cell_type": "markdown",
      "source": [
        "## Import Libraries"
      ],
      "metadata": {
        "id": "vigNZZ9Ljbhd"
      }
    },
    {
      "cell_type": "code",
      "source": [
        "import numpy as np\n",
        "import pandas as pd\n",
        "import seaborn as sns\n",
        "import matplotlib.pyplot as plt\n",
        "\n",
        "# Import necessary libraries for machine learning\n",
        "from sklearn.metrics import accuracy_score, classification_report\n",
        "from sklearn.model_selection import train_test_split\n",
        "from sklearn.neighbors import KNeighborsClassifier\n",
        "from sklearn.svm import SVC\n",
        "from sklearn.naive_bayes import GaussianNB\n",
        "from sklearn.tree import DecisionTreeClassifier\n",
        "from sklearn.ensemble import RandomForestClassifier\n",
        "\n",
        "from sklearn.preprocessing import LabelEncoder, OneHotEncoder #Label Encoder/One Hot Encoder\n",
        "from sklearn.metrics import confusion_matrix #Confusion Matrix"
      ],
      "metadata": {
        "id": "RPut3vRBjXGW"
      },
      "execution_count": 14,
      "outputs": []
    },
    {
      "cell_type": "markdown",
      "source": [
        "## Load the csv file ( 1 Mark)"
      ],
      "metadata": {
        "id": "yv1o_PS5jmuF"
      }
    },
    {
      "cell_type": "code",
      "source": [
        "# read the data\n",
        "df = pd.read_csv('healthcare_dataset.csv')"
      ],
      "metadata": {
        "id": "uFnrChdnjqq5"
      },
      "execution_count": 15,
      "outputs": []
    },
    {
      "cell_type": "code",
      "source": [
        "# Print the top 5 data points\n",
        "print(df.head())"
      ],
      "metadata": {
        "collapsed": true,
        "id": "ZQFvkQSUju_h",
        "colab": {
          "base_uri": "https://localhost:8080/"
        },
        "outputId": "0f34eb05-def0-42ed-882f-92605cdfc6ec"
      },
      "execution_count": 16,
      "outputs": [
        {
          "output_type": "stream",
          "name": "stdout",
          "text": [
            "            Name  Age  Gender Blood Type Medical Condition Date of Admission  \\\n",
            "0  Bobby JacksOn   30    Male         B-            Cancer        2024-01-31   \n",
            "1   LesLie TErRy   62    Male         A+           Obesity        2019-08-20   \n",
            "2    DaNnY sMitH   76  Female         A-           Obesity        2022-09-22   \n",
            "3   andrEw waTtS   28  Female         O+          Diabetes        2020-11-18   \n",
            "4  adrIENNE bEll   43  Female        AB+            Cancer        2022-09-19   \n",
            "\n",
            "             Doctor                    Hospital Insurance Provider  \\\n",
            "0     Matthew Smith             Sons and Miller         Blue Cross   \n",
            "1   Samantha Davies                     Kim Inc           Medicare   \n",
            "2  Tiffany Mitchell                    Cook PLC              Aetna   \n",
            "3       Kevin Wells  Hernandez Rogers and Vang,           Medicare   \n",
            "4    Kathleen Hanna                 White-White              Aetna   \n",
            "\n",
            "   Billing Amount  Room Number Admission Type Discharge Date   Medication  \\\n",
            "0    18856.281306          328         Urgent     2024-02-02  Paracetamol   \n",
            "1    33643.327287          265      Emergency     2019-08-26    Ibuprofen   \n",
            "2    27955.096079          205      Emergency     2022-10-07      Aspirin   \n",
            "3    37909.782410          450       Elective     2020-12-18    Ibuprofen   \n",
            "4    14238.317814          458         Urgent     2022-10-09   Penicillin   \n",
            "\n",
            "   Test Results  \n",
            "0        Normal  \n",
            "1  Inconclusive  \n",
            "2        Normal  \n",
            "3      Abnormal  \n",
            "4      Abnormal  \n"
          ]
        }
      ]
    },
    {
      "cell_type": "markdown",
      "source": [
        "## Data Exploration ( 2 Marks)"
      ],
      "metadata": {
        "id": "gMw-dqDBjx5c"
      }
    },
    {
      "cell_type": "code",
      "source": [
        "# Print the type of data points\n",
        "print(df.dtypes)"
      ],
      "metadata": {
        "id": "WWvOOtjFj0Tw",
        "colab": {
          "base_uri": "https://localhost:8080/"
        },
        "outputId": "746af359-6805-4d6c-cd26-c48012797123"
      },
      "execution_count": 17,
      "outputs": [
        {
          "output_type": "stream",
          "name": "stdout",
          "text": [
            "Name                   object\n",
            "Age                     int64\n",
            "Gender                 object\n",
            "Blood Type             object\n",
            "Medical Condition      object\n",
            "Date of Admission      object\n",
            "Doctor                 object\n",
            "Hospital               object\n",
            "Insurance Provider     object\n",
            "Billing Amount        float64\n",
            "Room Number             int64\n",
            "Admission Type         object\n",
            "Discharge Date         object\n",
            "Medication             object\n",
            "Test Results           object\n",
            "dtype: object\n"
          ]
        }
      ]
    },
    {
      "cell_type": "code",
      "source": [
        "# Print the shape of data points\n",
        "print(f\"Shape of the dataset: {df.shape}\")"
      ],
      "metadata": {
        "id": "vTj8C0owj3C-",
        "colab": {
          "base_uri": "https://localhost:8080/"
        },
        "outputId": "359db519-9084-4f2d-f3b4-2068452f880f"
      },
      "execution_count": 19,
      "outputs": [
        {
          "output_type": "stream",
          "name": "stdout",
          "text": [
            "Shape of the dataset: (55500, 15)\n"
          ]
        }
      ]
    },
    {
      "cell_type": "code",
      "source": [
        "# Print the missing values of each data point\n",
        "missing_values = df.isnull().sum()\n",
        "print(\"Missing values in each column:\")\n",
        "print(missing_values)\n",
        "\n",
        "\n"
      ],
      "metadata": {
        "id": "Wblfa0v6j4ai",
        "colab": {
          "base_uri": "https://localhost:8080/"
        },
        "outputId": "484eee86-3c8e-40f4-d9c9-d814b6abbb43"
      },
      "execution_count": 26,
      "outputs": [
        {
          "output_type": "stream",
          "name": "stdout",
          "text": [
            "Missing values in each column:\n",
            "Name                  0\n",
            "Age                   0\n",
            "Gender                0\n",
            "Blood Type            0\n",
            "Medical Condition     0\n",
            "Date of Admission     0\n",
            "Doctor                0\n",
            "Hospital              0\n",
            "Insurance Provider    0\n",
            "Billing Amount        0\n",
            "Room Number           0\n",
            "Admission Type        0\n",
            "Discharge Date        0\n",
            "Medication            0\n",
            "Test Results          0\n",
            "dtype: int64\n"
          ]
        }
      ]
    },
    {
      "cell_type": "code",
      "source": [
        "# Identify and Print the numerical and categorical features\n",
        "\n",
        "# Identify and print the numerical features\n",
        "numerical_features = df.select_dtypes(include=['int64', 'float64']).columns\n",
        "print(\"Numerical features:\")\n",
        "print(numerical_features)\n",
        "\n",
        "# Identify and print the categorical features\n",
        "categorical_features = df.select_dtypes(include=['object']).columns\n",
        "print(\"\\nCategorical features:\")\n",
        "print(categorical_features)"
      ],
      "metadata": {
        "id": "K-gL1EAEj8FU",
        "colab": {
          "base_uri": "https://localhost:8080/"
        },
        "outputId": "602a5afc-d626-483f-da4d-a8753fd0acb5"
      },
      "execution_count": 36,
      "outputs": [
        {
          "output_type": "stream",
          "name": "stdout",
          "text": [
            "Numerical features:\n",
            "Index(['Age', 'Billing Amount', 'Room Number'], dtype='object')\n",
            "\n",
            "Categorical features:\n",
            "Index(['Name', 'Gender', 'Blood Type', 'Medical Condition',\n",
            "       'Date of Admission', 'Doctor', 'Hospital', 'Insurance Provider',\n",
            "       'Admission Type', 'Discharge Date', 'Medication', 'Test Results'],\n",
            "      dtype='object')\n"
          ]
        }
      ]
    },
    {
      "cell_type": "markdown",
      "source": [
        "## Data Visualization ( 2 Marks)"
      ],
      "metadata": {
        "id": "YWzd-zVTkKhy"
      }
    },
    {
      "cell_type": "code",
      "source": [
        "# Display the distribution of ages in histogram\n",
        "plt.figure(figsize=(8, 6))\n",
        "\n",
        "# Plot the histogram of the 'Age' column\n",
        "plt.hist(df['Age'], bins=10, color='skyblue', edgecolor='black')\n",
        "\n",
        "# Add titles and labels\n",
        "plt.title('Distribution of Ages', fontsize=16)\n",
        "plt.xlabel('Age', fontsize=14)\n",
        "plt.ylabel('Frequency', fontsize=14)\n",
        "\n",
        "# Display the plot\n",
        "plt.grid(True)\n",
        "plt.show()"
      ],
      "metadata": {
        "id": "JkkRAfLRkLhT",
        "colab": {
          "base_uri": "https://localhost:8080/",
          "height": 571
        },
        "outputId": "c5c4f624-0d3a-4fa6-ed64-6e244a1b17c3"
      },
      "execution_count": 38,
      "outputs": [
        {
          "output_type": "display_data",
          "data": {
            "text/plain": [
              "<Figure size 800x600 with 1 Axes>"
            ],
            "image/png": "[encoded data removed]"
          },
          "metadata": {}
        }
      ]
    },
    {
      "cell_type": "code",
      "source": [
        "# Analyzing categories count of Target column\n",
        "\n",
        "# Analyze and print the count of each category in the target column\n",
        "category_counts = df['Test Results'].value_counts()\n",
        "\n",
        "# Display the category counts\n",
        "print(\"Category counts of 'Test Results':\")\n",
        "print(category_counts)\n"
      ],
      "metadata": {
        "id": "JGfAUhy8kMxm",
        "colab": {
          "base_uri": "https://localhost:8080/"
        },
        "outputId": "158347c5-ac7c-458e-f43d-8a3d6da81c92"
      },
      "execution_count": 39,
      "outputs": [
        {
          "output_type": "stream",
          "name": "stdout",
          "text": [
            "Category counts of 'Test Results':\n",
            "Test Results\n",
            "Abnormal        18627\n",
            "Normal          18517\n",
            "Inconclusive    18356\n",
            "Name: count, dtype: int64\n"
          ]
        }
      ]
    },
    {
      "cell_type": "code",
      "source": [
        "\n",
        "# YOUR CODE HERE: Increase the size of the heatmap.\n",
        "# Store heatmap object in a variable to easily access it when you want to include more features (such as title).\n",
        "# YOUR CODE HERE: Set the range of values to be displayed on the colormap from -1 to 1, and set the annotation to True to display the correlation values on the heatmap.\n",
        "# YOUR CODE HERE: Give a title to the heatmap. Pad defines the distance of the title from the top of the heatmap.\n",
        "\n",
        "# 1. Identify the numerical columns\n",
        "numeric_data = df.select_dtypes(include=['number'])\n",
        "\n",
        "# 2. Compute the correlation matrix of the numerical data\n",
        "correlation_matrix = numeric_data.corr()\n",
        "\n",
        "# 3. Create the heatmap\n",
        "plt.figure(figsize=(12, 8))\n",
        "\n",
        "# Create the heatmap with the range of values from -1 to 1, annotations set to True\n",
        "heatmap = sns.heatmap(correlation_matrix,\n",
        "                      cmap='coolwarm',          # Colormap to use\n",
        "                      vmin=-1, vmax=1,          # Set the range of the values displayed on the colormap\n",
        "                      annot=True,               # Display the correlation values on the heatmap\n",
        "                      fmt='.2f',                # Format the annotation to 2 decimal places\n",
        "                      linewidths=0.5,           # Lines between cells\n",
        "                      cbar_kws={'shrink': 0.75})  # Control the colorbar size\n",
        "\n",
        "# 4. Add a title with padding\n",
        "heatmap.set_title('Correlation Heatmap of Numerical Features', fontsize=18, pad=20)\n",
        "\n",
        "# 5. Display the heatmap\n",
        "plt.show()\n"
      ],
      "metadata": {
        "id": "9Yj3ZMsQkPL4",
        "colab": {
          "base_uri": "https://localhost:8080/",
          "height": 723
        },
        "outputId": "d5cef304-4a93-4bcf-f18e-8a853328c0e6"
      },
      "execution_count": 44,
      "outputs": [
        {
          "output_type": "display_data",
          "data": {
            "text/plain": [
              "<Figure size 1200x800 with 2 Axes>"
            ],
            "image/png": "[encoded data removed]"
          },
          "metadata": {}
        }
      ]
    },
    {
      "cell_type": "markdown",
      "source": [
        "## Preprocessing Data ( 2 Marks)"
      ],
      "metadata": {
        "id": "QWUy9FT6kVLm"
      }
    },
    {
      "cell_type": "code",
      "source": [
        "# Convert the categorical data to numerical :Label Encoding\n",
        "# YOUR CODE HERE:\n",
        "def encode_features(dataframe):\n",
        "   # Initialize a LabelEncoder instance\n",
        "    label_encoder = LabelEncoder()\n",
        "\n",
        "    # Identify categorical columns in the dataframe\n",
        "    categorical_columns = dataframe.select_dtypes(include=['object']).columns\n",
        "\n",
        "    # Apply LabelEncoder to each categorical column\n",
        "    for col in categorical_columns:\n",
        "        dataframe[col] = label_encoder.fit_transform(dataframe[col])\n",
        "\n",
        "    return dataframe\n",
        "\n",
        "# Encode categorical features in the DataFrame\n",
        "encoded_data = encode_features(df)\n",
        "\n",
        "# Display the encoded DataFrame\n",
        "print(encoded_data)"
      ],
      "metadata": {
        "id": "GVgmp8bRkR83",
        "colab": {
          "base_uri": "https://localhost:8080/"
        },
        "outputId": "41d68e3d-9637-4b57-946c-d8c480229aa3"
      },
      "execution_count": 46,
      "outputs": [
        {
          "output_type": "stream",
          "name": "stdout",
          "text": [
            "        Name  Age  Gender  Blood Type  Medical Condition  Date of Admission  \\\n",
            "0       3068   30       1           5                  2               1729   \n",
            "1      15211   62       1           0                  5                104   \n",
            "2       6476   76       0           1                  5               1233   \n",
            "3      26935   28       0           6                  3                560   \n",
            "4      26241   43       0           2                  2               1230   \n",
            "...      ...  ...     ...         ...                ...                ...   \n",
            "55495  32416   42       0           6                  1                466   \n",
            "55496  13686   61       0           3                  5                260   \n",
            "55497   8742   38       0           4                  4                432   \n",
            "55498   9759   43       1           7                  0                 17   \n",
            "55499  34215   53       0           6                  0               1791   \n",
            "\n",
            "       Doctor  Hospital  Insurance Provider  Billing Amount  Room Number  \\\n",
            "0       26612     29933                   1    18856.281306          328   \n",
            "1       33648     16012                   3    33643.327287          265   \n",
            "2       37828      5473                   0    27955.096079          205   \n",
            "3       22511     12317                   3    37909.782410          450   \n",
            "4       21259     33598                   0    14238.317814          458   \n",
            "...       ...       ...                 ...             ...          ...   \n",
            "55495   20003     15553                   1     2650.714952          417   \n",
            "55496   37149     31722                   2    31457.797307          316   \n",
            "55497   18550     37408                   4    27620.764717          347   \n",
            "55498   22665     14329                   3    32451.092358          321   \n",
            "55499   10782     12207                   0     4010.134172          448   \n",
            "\n",
            "       Admission Type  Discharge Date  Medication  Test Results  \n",
            "0                   2            1730           3             2  \n",
            "1                   1             109           1             1  \n",
            "2                   1            1247           0             2  \n",
            "3                   0             589           1             0  \n",
            "4                   2            1249           4             0  \n",
            "...               ...             ...         ...           ...  \n",
            "55495               0             495           4             0  \n",
            "55496               0             268           0             2  \n",
            "55497               2             459           1             0  \n",
            "55498               0              22           1             0  \n",
            "55499               2            1817           1             0  \n",
            "\n",
            "[55500 rows x 15 columns]\n"
          ]
        }
      ]
    },
    {
      "cell_type": "code",
      "source": [
        "# Apply One Hot Encoding on 'Blood Type', 'Medical Condition', 'Admission Type', 'Medication'\n",
        "\n",
        "def apply_one_hot_encoding(dataframe):\n",
        "    # Specify the columns to apply One-Hot Encoding\n",
        "    columns_to_encode = ['Blood Type', 'Medical Condition', 'Admission Type', 'Medication']\n",
        "\n",
        "    # Apply One-Hot Encoding using pd.get_dummies()\n",
        "    dataframe = pd.get_dummies(dataframe, columns=columns_to_encode, drop_first=True)\n",
        "\n",
        "    return dataframe\n",
        "\n",
        "# Apply One-Hot Encoding on the specified columns\n",
        "df_encoded = apply_one_hot_encoding(df)\n",
        "\n",
        "# Display the encoded DataFrame\n",
        "print(df_encoded)"
      ],
      "metadata": {
        "id": "qnhgQqn0kYTn",
        "colab": {
          "base_uri": "https://localhost:8080/"
        },
        "outputId": "5aa2c6d8-b5bb-46c0-c437-35487672f896"
      },
      "execution_count": 47,
      "outputs": [
        {
          "output_type": "stream",
          "name": "stdout",
          "text": [
            "        Name  Age  Gender  Date of Admission  Doctor  Hospital  \\\n",
            "0       3068   30       1               1729   26612     29933   \n",
            "1      15211   62       1                104   33648     16012   \n",
            "2       6476   76       0               1233   37828      5473   \n",
            "3      26935   28       0                560   22511     12317   \n",
            "4      26241   43       0               1230   21259     33598   \n",
            "...      ...  ...     ...                ...     ...       ...   \n",
            "55495  32416   42       0                466   20003     15553   \n",
            "55496  13686   61       0                260   37149     31722   \n",
            "55497   8742   38       0                432   18550     37408   \n",
            "55498   9759   43       1                 17   22665     14329   \n",
            "55499  34215   53       0               1791   10782     12207   \n",
            "\n",
            "       Insurance Provider  Billing Amount  Room Number  Discharge Date  ...  \\\n",
            "0                       1    18856.281306          328            1730  ...   \n",
            "1                       3    33643.327287          265             109  ...   \n",
            "2                       0    27955.096079          205            1247  ...   \n",
            "3                       3    37909.782410          450             589  ...   \n",
            "4                       0    14238.317814          458            1249  ...   \n",
            "...                   ...             ...          ...             ...  ...   \n",
            "55495                   1     2650.714952          417             495  ...   \n",
            "55496                   2    31457.797307          316             268  ...   \n",
            "55497                   4    27620.764717          347             459  ...   \n",
            "55498                   3    32451.092358          321              22  ...   \n",
            "55499                   0     4010.134172          448            1817  ...   \n",
            "\n",
            "       Medical Condition_2  Medical Condition_3  Medical Condition_4  \\\n",
            "0                     True                False                False   \n",
            "1                    False                False                False   \n",
            "2                    False                False                False   \n",
            "3                    False                 True                False   \n",
            "4                     True                False                False   \n",
            "...                    ...                  ...                  ...   \n",
            "55495                False                False                False   \n",
            "55496                False                False                False   \n",
            "55497                False                False                 True   \n",
            "55498                False                False                False   \n",
            "55499                False                False                False   \n",
            "\n",
            "       Medical Condition_5  Admission Type_1  Admission Type_2  Medication_1  \\\n",
            "0                    False             False              True         False   \n",
            "1                     True              True             False          True   \n",
            "2                     True              True             False         False   \n",
            "3                    False             False             False          True   \n",
            "4                    False             False              True         False   \n",
            "...                    ...               ...               ...           ...   \n",
            "55495                False             False             False         False   \n",
            "55496                 True             False             False         False   \n",
            "55497                False             False              True          True   \n",
            "55498                False             False             False          True   \n",
            "55499                False             False              True          True   \n",
            "\n",
            "       Medication_2  Medication_3  Medication_4  \n",
            "0             False          True         False  \n",
            "1             False         False         False  \n",
            "2             False         False         False  \n",
            "3             False         False         False  \n",
            "4             False         False          True  \n",
            "...             ...           ...           ...  \n",
            "55495         False         False          True  \n",
            "55496         False         False         False  \n",
            "55497         False         False         False  \n",
            "55498         False         False         False  \n",
            "55499         False         False         False  \n",
            "\n",
            "[55500 rows x 29 columns]\n"
          ]
        }
      ]
    },
    {
      "cell_type": "code",
      "source": [
        "# Identify and Drop the columns which are not useful for prediction of health\n",
        "\n",
        "def drop_useless_columns(dataframe):\n",
        "    # Step 1: List of columns to drop based on domain knowledge or analysis\n",
        "    columns_to_drop = [\n",
        "        'Name',  # Unique identifier, not useful for prediction\n",
        "        'Date of Admission',  # Likely not useful unless time-based prediction is required\n",
        "        'Doctor',  # Might be too specific or not relevant for prediction unless doctor behavior is important\n",
        "        'Hospital',  # Might not contribute directly to prediction\n",
        "        'Room Number',  # Room number doesn't affect health prediction directly\n",
        "        # Add other columns you identify as irrelevant\n",
        "    ]\n",
        "\n",
        "    # Step 2: Drop constant columns (columns with a single unique value)\n",
        "    dataframe = dataframe.loc[:, dataframe.nunique() > 1]  # Keep only columns with more than one unique value\n",
        "\n",
        "    # Step 3: Drop the specified columns from the dataframe\n",
        "    dataframe = dataframe.drop(columns=columns_to_drop, axis=1, errors='ignore')\n",
        "\n",
        "    # Step 4: Handle missing values, drop columns with too many missing values (e.g., >50% missing)\n",
        "    missing_threshold = 0.5  # Drop columns with more than 50% missing data\n",
        "    dataframe = dataframe.loc[:, dataframe.isnull().mean() < missing_threshold]\n",
        "\n",
        "    return dataframe\n",
        "\n",
        "# Drop useless columns from the DataFrame\n",
        "#df_cleaned = drop_useless_columns(df_encoded)\n",
        "\n",
        "# Display the cleaned DataFrame\n",
        "#print(df_cleaned)\n",
        "\n",
        "# Apply the drop_useless_columns function to the DataFrame\n",
        "df_cleaned = drop_useless_columns(df)\n",
        "\n",
        "# Display the cleaned DataFrame\n",
        "print(df_cleaned)"
      ],
      "metadata": {
        "collapsed": true,
        "id": "mReP8_tkkaXQ",
        "colab": {
          "base_uri": "https://localhost:8080/"
        },
        "outputId": "adb51835-74ee-4753-917c-c9a3862d5c4a"
      },
      "execution_count": 52,
      "outputs": [
        {
          "output_type": "stream",
          "name": "stdout",
          "text": [
            "       Age  Gender  Blood Type  Medical Condition  Insurance Provider  \\\n",
            "0       30       1           5                  2                   1   \n",
            "1       62       1           0                  5                   3   \n",
            "2       76       0           1                  5                   0   \n",
            "3       28       0           6                  3                   3   \n",
            "4       43       0           2                  2                   0   \n",
            "...    ...     ...         ...                ...                 ...   \n",
            "55495   42       0           6                  1                   1   \n",
            "55496   61       0           3                  5                   2   \n",
            "55497   38       0           4                  4                   4   \n",
            "55498   43       1           7                  0                   3   \n",
            "55499   53       0           6                  0                   0   \n",
            "\n",
            "       Billing Amount  Admission Type  Discharge Date  Medication  \\\n",
            "0        18856.281306               2            1730           3   \n",
            "1        33643.327287               1             109           1   \n",
            "2        27955.096079               1            1247           0   \n",
            "3        37909.782410               0             589           1   \n",
            "4        14238.317814               2            1249           4   \n",
            "...               ...             ...             ...         ...   \n",
            "55495     2650.714952               0             495           4   \n",
            "55496    31457.797307               0             268           0   \n",
            "55497    27620.764717               2             459           1   \n",
            "55498    32451.092358               0              22           1   \n",
            "55499     4010.134172               2            1817           1   \n",
            "\n",
            "       Test Results  \n",
            "0                 2  \n",
            "1                 1  \n",
            "2                 2  \n",
            "3                 0  \n",
            "4                 0  \n",
            "...             ...  \n",
            "55495             0  \n",
            "55496             2  \n",
            "55497             0  \n",
            "55498             0  \n",
            "55499             0  \n",
            "\n",
            "[55500 rows x 10 columns]\n"
          ]
        }
      ]
    },
    {
      "cell_type": "markdown",
      "source": [
        "## Train/Test split dataset ( 1 Mark)"
      ],
      "metadata": {
        "id": "VSuQgGd2ke0a"
      }
    },
    {
      "cell_type": "code",
      "source": [
        "# YOUR CODE HERE : Create X and y data\n",
        "\n",
        "# YOUR CODE HERE : Split the Data using sklearn\n",
        "\n",
        "\n",
        "# Step 1: Define the target variable (y) and features (X)\n",
        "# let's assume we are trying to predict the 'Medical Condition'\n",
        "X = df_cleaned.drop(columns=['Medical Condition'])  # All columns except 'Medical Condition'\n",
        "y = df_cleaned['Medical Condition']  # The target variable\n",
        "\n",
        "# Step 2: Split the data into training and testing sets (80% train, 20% test)\n",
        "X_train, X_test, y_train, y_test = train_test_split(X, y, test_size=0.2, random_state=42)\n",
        "\n",
        "# Display the shape of the splits to verify\n",
        "print(\"Training Features Shape:\", X_train.shape)\n",
        "print(\"Testing Features Shape:\", X_test.shape)\n",
        "print(\"Training Target Shape:\", y_train.shape)\n",
        "print(\"Testing Target Shape:\", y_test.shape)"
      ],
      "metadata": {
        "id": "ZM-ZXWEskc8y",
        "colab": {
          "base_uri": "https://localhost:8080/"
        },
        "outputId": "2d0eea30-f912-4e84-aa63-877f5788a1df"
      },
      "execution_count": 53,
      "outputs": [
        {
          "output_type": "stream",
          "name": "stdout",
          "text": [
            "Training Features Shape: (44400, 9)\n",
            "Testing Features Shape: (11100, 9)\n",
            "Training Target Shape: (44400,)\n",
            "Testing Target Shape: (11100,)\n"
          ]
        }
      ]
    },
    {
      "cell_type": "markdown",
      "source": [
        "## Model Training ( 2 Marks)\n",
        "\n",
        "* Train you model on any 3 algorithms and predict the test data\n",
        "* Confusion matrix\n",
        "* Classification report"
      ],
      "metadata": {
        "id": "kAwySeJDklMX"
      }
    },
    {
      "cell_type": "code",
      "source": [
        "from sklearn.linear_model import LogisticRegression\n",
        "from sklearn.ensemble import RandomForestClassifier\n",
        "from sklearn.svm import SVC\n",
        "from sklearn.metrics import accuracy_score, classification_report\n",
        "\n",
        "\n",
        "# Step 1: Initialize the models\n",
        "log_reg = LogisticRegression(max_iter=10000, random_state=42)\n",
        "rf_clf = RandomForestClassifier(n_estimators=100, random_state=42)\n",
        "svm_clf = SVC(random_state=42)\n",
        "\n",
        "# Step 2: Train the models on the training data\n",
        "log_reg.fit(X_train, y_train)\n",
        "rf_clf.fit(X_train, y_train)\n",
        "svm_clf.fit(X_train, y_train)\n"
      ],
      "metadata": {
        "id": "qKciHIQbxhNS",
        "outputId": "ad94a754-a8a2-41a6-edc8-86d8d7196257",
        "colab": {
          "base_uri": "https://localhost:8080/",
          "height": 216
        }
      },
      "execution_count": 59,
      "outputs": [
        {
          "output_type": "stream",
          "name": "stderr",
          "text": [
            "/usr/local/lib/python3.10/dist-packages/sklearn/linear_model/_logistic.py:469: ConvergenceWarning: lbfgs failed to converge (status=1):\n",
            "STOP: TOTAL NO. of ITERATIONS REACHED LIMIT.\n",
            "\n",
            "Increase the number of iterations (max_iter) or scale the data as shown in:\n",
            "    https://scikit-learn.org/stable/modules/preprocessing.html\n",
            "Please also refer to the documentation for alternative solver options:\n",
            "    https://scikit-learn.org/stable/modules/linear_model.html#logistic-regression\n",
            "  n_iter_i = _check_optimize_result(\n"
          ]
        },
        {
          "output_type": "execute_result",
          "data": {
            "text/plain": [
              "SVC(random_state=42)"
            ],
            "text/html": [
              "<style>#sk-container-id-1 {\n",
              "  /* Definition of color scheme common for light and dark mode */\n",
              "  --sklearn-color-text: black;\n",
              "  --sklearn-color-line: gray;\n",
              "  /* Definition of color scheme for unfitted estimators */\n",
              "  --sklearn-color-unfitted-level-0: #fff5e6;\n",
              "  --sklearn-color-unfitted-level-1: #f6e4d2;\n",
              "  --sklearn-color-unfitted-level-2: #ffe0b3;\n",
              "  --sklearn-color-unfitted-level-3: chocolate;\n",
              "  /* Definition of color scheme for fitted estimators */\n",
              "  --sklearn-color-fitted-level-0: #f0f8ff;\n",
              "  --sklearn-color-fitted-level-1: #d4ebff;\n",
              "  --sklearn-color-fitted-level-2: #b3dbfd;\n",
              "  --sklearn-color-fitted-level-3: cornflowerblue;\n",
              "\n",
              "  /* Specific color for light theme */\n",
              "  --sklearn-color-text-on-default-background: var(--sg-text-color, var(--theme-code-foreground, var(--jp-content-font-color1, black)));\n",
              "  --sklearn-color-background: var(--sg-background-color, var(--theme-background, var(--jp-layout-color0, white)));\n",
              "  --sklearn-color-border-box: var(--sg-text-color, var(--theme-code-foreground, var(--jp-content-font-color1, black)));\n",
              "  --sklearn-color-icon: #696969;\n",
              "\n",
              "  @media (prefers-color-scheme: dark) {\n",
              "    /* Redefinition of color scheme for dark theme */\n",
              "    --sklearn-color-text-on-default-background: var(--sg-text-color, var(--theme-code-foreground, var(--jp-content-font-color1, white)));\n",
              "    --sklearn-color-background: var(--sg-background-color, var(--theme-background, var(--jp-layout-color0, #111)));\n",
              "    --sklearn-color-border-box: var(--sg-text-color, var(--theme-code-foreground, var(--jp-content-font-color1, white)));\n",
              "    --sklearn-color-icon: #878787;\n",
              "  }\n",
              "}\n",
              "\n",
              "#sk-container-id-1 {\n",
              "  color: var(--sklearn-color-text);\n",
              "}\n",
              "\n",
              "#sk-container-id-1 pre {\n",
              "  padding: 0;\n",
              "}\n",
              "\n",
              "#sk-container-id-1 input.sk-hidden--visually {\n",
              "  border: 0;\n",
              "  clip: rect(1px 1px 1px 1px);\n",
              "  clip: rect(1px, 1px, 1px, 1px);\n",
              "  height: 1px;\n",
              "  margin: -1px;\n",
              "  overflow: hidden;\n",
              "  padding: 0;\n",
              "  position: absolute;\n",
              "  width: 1px;\n",
              "}\n",
              "\n",
              "#sk-container-id-1 div.sk-dashed-wrapped {\n",
              "  border: 1px dashed var(--sklearn-color-line);\n",
              "  margin: 0 0.4em 0.5em 0.4em;\n",
              "  box-sizing: border-box;\n",
              "  padding-bottom: 0.4em;\n",
              "  background-color: var(--sklearn-color-background);\n",
              "}\n",
              "\n",
              "#sk-container-id-1 div.sk-container {\n",
              "  /* jupyter's `normalize.less` sets `[hidden] { display: none; }`\n",
              "     but bootstrap.min.css set `[hidden] { display: none !important; }`\n",
              "     so we also need the `!important` here to be able to override the\n",
              "     default hidden behavior on the sphinx rendered scikit-learn.org.\n",
              "     See: https://github.com/scikit-learn/scikit-learn/issues/21755 */\n",
              "  display: inline-block !important;\n",
              "  position: relative;\n",
              "}\n",
              "\n",
              "#sk-container-id-1 div.sk-text-repr-fallback {\n",
              "  display: none;\n",
              "}\n",
              "\n",
              "div.sk-parallel-item,\n",
              "div.sk-serial,\n",
              "div.sk-item {\n",
              "  /* draw centered vertical line to link estimators */\n",
              "  background-image: linear-gradient(var(--sklearn-color-text-on-default-background), var(--sklearn-color-text-on-default-background));\n",
              "  background-size: 2px 100%;\n",
              "  background-repeat: no-repeat;\n",
              "  background-position: center center;\n",
              "}\n",
              "\n",
              "/* Parallel-specific style estimator block */\n",
              "\n",
              "#sk-container-id-1 div.sk-parallel-item::after {\n",
              "  content: \"\";\n",
              "  width: 100%;\n",
              "  border-bottom: 2px solid var(--sklearn-color-text-on-default-background);\n",
              "  flex-grow: 1;\n",
              "}\n",
              "\n",
              "#sk-container-id-1 div.sk-parallel {\n",
              "  display: flex;\n",
              "  align-items: stretch;\n",
              "  justify-content: center;\n",
              "  background-color: var(--sklearn-color-background);\n",
              "  position: relative;\n",
              "}\n",
              "\n",
              "#sk-container-id-1 div.sk-parallel-item {\n",
              "  display: flex;\n",
              "  flex-direction: column;\n",
              "}\n",
              "\n",
              "#sk-container-id-1 div.sk-parallel-item:first-child::after {\n",
              "  align-self: flex-end;\n",
              "  width: 50%;\n",
              "}\n",
              "\n",
              "#sk-container-id-1 div.sk-parallel-item:last-child::after {\n",
              "  align-self: flex-start;\n",
              "  width: 50%;\n",
              "}\n",
              "\n",
              "#sk-container-id-1 div.sk-parallel-item:only-child::after {\n",
              "  width: 0;\n",
              "}\n",
              "\n",
              "/* Serial-specific style estimator block */\n",
              "\n",
              "#sk-container-id-1 div.sk-serial {\n",
              "  display: flex;\n",
              "  flex-direction: column;\n",
              "  align-items: center;\n",
              "  background-color: var(--sklearn-color-background);\n",
              "  padding-right: 1em;\n",
              "  padding-left: 1em;\n",
              "}\n",
              "\n",
              "\n",
              "/* Toggleable style: style used for estimator/Pipeline/ColumnTransformer box that is\n",
              "clickable and can be expanded/collapsed.\n",
              "- Pipeline and ColumnTransformer use this feature and define the default style\n",
              "- Estimators will overwrite some part of the style using the `sk-estimator` class\n",
              "*/\n",
              "\n",
              "/* Pipeline and ColumnTransformer style (default) */\n",
              "\n",
              "#sk-container-id-1 div.sk-toggleable {\n",
              "  /* Default theme specific background. It is overwritten whether we have a\n",
              "  specific estimator or a Pipeline/ColumnTransformer */\n",
              "  background-color: var(--sklearn-color-background);\n",
              "}\n",
              "\n",
              "/* Toggleable label */\n",
              "#sk-container-id-1 label.sk-toggleable__label {\n",
              "  cursor: pointer;\n",
              "  display: block;\n",
              "  width: 100%;\n",
              "  margin-bottom: 0;\n",
              "  padding: 0.5em;\n",
              "  box-sizing: border-box;\n",
              "  text-align: center;\n",
              "}\n",
              "\n",
              "#sk-container-id-1 label.sk-toggleable__label-arrow:before {\n",
              "  /* Arrow on the left of the label */\n",
              "  content: \"▸\";\n",
              "  float: left;\n",
              "  margin-right: 0.25em;\n",
              "  color: var(--sklearn-color-icon);\n",
              "}\n",
              "\n",
              "#sk-container-id-1 label.sk-toggleable__label-arrow:hover:before {\n",
              "  color: var(--sklearn-color-text);\n",
              "}\n",
              "\n",
              "/* Toggleable content - dropdown */\n",
              "\n",
              "#sk-container-id-1 div.sk-toggleable__content {\n",
              "  max-height: 0;\n",
              "  max-width: 0;\n",
              "  overflow: hidden;\n",
              "  text-align: left;\n",
              "  /* unfitted */\n",
              "  background-color: var(--sklearn-color-unfitted-level-0);\n",
              "}\n",
              "\n",
              "#sk-container-id-1 div.sk-toggleable__content.fitted {\n",
              "  /* fitted */\n",
              "  background-color: var(--sklearn-color-fitted-level-0);\n",
              "}\n",
              "\n",
              "#sk-container-id-1 div.sk-toggleable__content pre {\n",
              "  margin: 0.2em;\n",
              "  border-radius: 0.25em;\n",
              "  color: var(--sklearn-color-text);\n",
              "  /* unfitted */\n",
              "  background-color: var(--sklearn-color-unfitted-level-0);\n",
              "}\n",
              "\n",
              "#sk-container-id-1 div.sk-toggleable__content.fitted pre {\n",
              "  /* unfitted */\n",
              "  background-color: var(--sklearn-color-fitted-level-0);\n",
              "}\n",
              "\n",
              "#sk-container-id-1 input.sk-toggleable__control:checked~div.sk-toggleable__content {\n",
              "  /* Expand drop-down */\n",
              "  max-height: 200px;\n",
              "  max-width: 100%;\n",
              "  overflow: auto;\n",
              "}\n",
              "\n",
              "#sk-container-id-1 input.sk-toggleable__control:checked~label.sk-toggleable__label-arrow:before {\n",
              "  content: \"▾\";\n",
              "}\n",
              "\n",
              "/* Pipeline/ColumnTransformer-specific style */\n",
              "\n",
              "#sk-container-id-1 div.sk-label input.sk-toggleable__control:checked~label.sk-toggleable__label {\n",
              "  color: var(--sklearn-color-text);\n",
              "  background-color: var(--sklearn-color-unfitted-level-2);\n",
              "}\n",
              "\n",
              "#sk-container-id-1 div.sk-label.fitted input.sk-toggleable__control:checked~label.sk-toggleable__label {\n",
              "  background-color: var(--sklearn-color-fitted-level-2);\n",
              "}\n",
              "\n",
              "/* Estimator-specific style */\n",
              "\n",
              "/* Colorize estimator box */\n",
              "#sk-container-id-1 div.sk-estimator input.sk-toggleable__control:checked~label.sk-toggleable__label {\n",
              "  /* unfitted */\n",
              "  background-color: var(--sklearn-color-unfitted-level-2);\n",
              "}\n",
              "\n",
              "#sk-container-id-1 div.sk-estimator.fitted input.sk-toggleable__control:checked~label.sk-toggleable__label {\n",
              "  /* fitted */\n",
              "  background-color: var(--sklearn-color-fitted-level-2);\n",
              "}\n",
              "\n",
              "#sk-container-id-1 div.sk-label label.sk-toggleable__label,\n",
              "#sk-container-id-1 div.sk-label label {\n",
              "  /* The background is the default theme color */\n",
              "  color: var(--sklearn-color-text-on-default-background);\n",
              "}\n",
              "\n",
              "/* On hover, darken the color of the background */\n",
              "#sk-container-id-1 div.sk-label:hover label.sk-toggleable__label {\n",
              "  color: var(--sklearn-color-text);\n",
              "  background-color: var(--sklearn-color-unfitted-level-2);\n",
              "}\n",
              "\n",
              "/* Label box, darken color on hover, fitted */\n",
              "#sk-container-id-1 div.sk-label.fitted:hover label.sk-toggleable__label.fitted {\n",
              "  color: var(--sklearn-color-text);\n",
              "  background-color: var(--sklearn-color-fitted-level-2);\n",
              "}\n",
              "\n",
              "/* Estimator label */\n",
              "\n",
              "#sk-container-id-1 div.sk-label label {\n",
              "  font-family: monospace;\n",
              "  font-weight: bold;\n",
              "  display: inline-block;\n",
              "  line-height: 1.2em;\n",
              "}\n",
              "\n",
              "#sk-container-id-1 div.sk-label-container {\n",
              "  text-align: center;\n",
              "}\n",
              "\n",
              "/* Estimator-specific */\n",
              "#sk-container-id-1 div.sk-estimator {\n",
              "  font-family: monospace;\n",
              "  border: 1px dotted var(--sklearn-color-border-box);\n",
              "  border-radius: 0.25em;\n",
              "  box-sizing: border-box;\n",
              "  margin-bottom: 0.5em;\n",
              "  /* unfitted */\n",
              "  background-color: var(--sklearn-color-unfitted-level-0);\n",
              "}\n",
              "\n",
              "#sk-container-id-1 div.sk-estimator.fitted {\n",
              "  /* fitted */\n",
              "  background-color: var(--sklearn-color-fitted-level-0);\n",
              "}\n",
              "\n",
              "/* on hover */\n",
              "#sk-container-id-1 div.sk-estimator:hover {\n",
              "  /* unfitted */\n",
              "  background-color: var(--sklearn-color-unfitted-level-2);\n",
              "}\n",
              "\n",
              "#sk-container-id-1 div.sk-estimator.fitted:hover {\n",
              "  /* fitted */\n",
              "  background-color: var(--sklearn-color-fitted-level-2);\n",
              "}\n",
              "\n",
              "/* Specification for estimator info (e.g. \"i\" and \"?\") */\n",
              "\n",
              "/* Common style for \"i\" and \"?\" */\n",
              "\n",
              ".sk-estimator-doc-link,\n",
              "a:link.sk-estimator-doc-link,\n",
              "a:visited.sk-estimator-doc-link {\n",
              "  float: right;\n",
              "  font-size: smaller;\n",
              "  line-height: 1em;\n",
              "  font-family: monospace;\n",
              "  background-color: var(--sklearn-color-background);\n",
              "  border-radius: 1em;\n",
              "  height: 1em;\n",
              "  width: 1em;\n",
              "  text-decoration: none !important;\n",
              "  margin-left: 1ex;\n",
              "  /* unfitted */\n",
              "  border: var(--sklearn-color-unfitted-level-1) 1pt solid;\n",
              "  color: var(--sklearn-color-unfitted-level-1);\n",
              "}\n",
              "\n",
              ".sk-estimator-doc-link.fitted,\n",
              "a:link.sk-estimator-doc-link.fitted,\n",
              "a:visited.sk-estimator-doc-link.fitted {\n",
              "  /* fitted */\n",
              "  border: var(--sklearn-color-fitted-level-1) 1pt solid;\n",
              "  color: var(--sklearn-color-fitted-level-1);\n",
              "}\n",
              "\n",
              "/* On hover */\n",
              "div.sk-estimator:hover .sk-estimator-doc-link:hover,\n",
              ".sk-estimator-doc-link:hover,\n",
              "div.sk-label-container:hover .sk-estimator-doc-link:hover,\n",
              ".sk-estimator-doc-link:hover {\n",
              "  /* unfitted */\n",
              "  background-color: var(--sklearn-color-unfitted-level-3);\n",
              "  color: var(--sklearn-color-background);\n",
              "  text-decoration: none;\n",
              "}\n",
              "\n",
              "div.sk-estimator.fitted:hover .sk-estimator-doc-link.fitted:hover,\n",
              ".sk-estimator-doc-link.fitted:hover,\n",
              "div.sk-label-container:hover .sk-estimator-doc-link.fitted:hover,\n",
              ".sk-estimator-doc-link.fitted:hover {\n",
              "  /* fitted */\n",
              "  background-color: var(--sklearn-color-fitted-level-3);\n",
              "  color: var(--sklearn-color-background);\n",
              "  text-decoration: none;\n",
              "}\n",
              "\n",
              "/* Span, style for the box shown on hovering the info icon */\n",
              ".sk-estimator-doc-link span {\n",
              "  display: none;\n",
              "  z-index: 9999;\n",
              "  position: relative;\n",
              "  font-weight: normal;\n",
              "  right: .2ex;\n",
              "  padding: .5ex;\n",
              "  margin: .5ex;\n",
              "  width: min-content;\n",
              "  min-width: 20ex;\n",
              "  max-width: 50ex;\n",
              "  color: var(--sklearn-color-text);\n",
              "  box-shadow: 2pt 2pt 4pt #999;\n",
              "  /* unfitted */\n",
              "  background: var(--sklearn-color-unfitted-level-0);\n",
              "  border: .5pt solid var(--sklearn-color-unfitted-level-3);\n",
              "}\n",
              "\n",
              ".sk-estimator-doc-link.fitted span {\n",
              "  /* fitted */\n",
              "  background: var(--sklearn-color-fitted-level-0);\n",
              "  border: var(--sklearn-color-fitted-level-3);\n",
              "}\n",
              "\n",
              ".sk-estimator-doc-link:hover span {\n",
              "  display: block;\n",
              "}\n",
              "\n",
              "/* \"?\"-specific style due to the `<a>` HTML tag */\n",
              "\n",
              "#sk-container-id-1 a.estimator_doc_link {\n",
              "  float: right;\n",
              "  font-size: 1rem;\n",
              "  line-height: 1em;\n",
              "  font-family: monospace;\n",
              "  background-color: var(--sklearn-color-background);\n",
              "  border-radius: 1rem;\n",
              "  height: 1rem;\n",
              "  width: 1rem;\n",
              "  text-decoration: none;\n",
              "  /* unfitted */\n",
              "  color: var(--sklearn-color-unfitted-level-1);\n",
              "  border: var(--sklearn-color-unfitted-level-1) 1pt solid;\n",
              "}\n",
              "\n",
              "#sk-container-id-1 a.estimator_doc_link.fitted {\n",
              "  /* fitted */\n",
              "  border: var(--sklearn-color-fitted-level-1) 1pt solid;\n",
              "  color: var(--sklearn-color-fitted-level-1);\n",
              "}\n",
              "\n",
              "/* On hover */\n",
              "#sk-container-id-1 a.estimator_doc_link:hover {\n",
              "  /* unfitted */\n",
              "  background-color: var(--sklearn-color-unfitted-level-3);\n",
              "  color: var(--sklearn-color-background);\n",
              "  text-decoration: none;\n",
              "}\n",
              "\n",
              "#sk-container-id-1 a.estimator_doc_link.fitted:hover {\n",
              "  /* fitted */\n",
              "  background-color: var(--sklearn-color-fitted-level-3);\n",
              "}\n",
              "</style><div id=\"sk-container-id-1\" class=\"sk-top-container\"><div class=\"sk-text-repr-fallback\"><pre>SVC(random_state=42)</pre><b>In a Jupyter environment, please rerun this cell to show the HTML representation or trust the notebook. <br />On GitHub, the HTML representation is unable to render, please try loading this page with nbviewer.org.</b></div><div class=\"sk-container\" hidden><div class=\"sk-item\"><div class=\"sk-estimator fitted sk-toggleable\"><input class=\"sk-toggleable__control sk-hidden--visually\" id=\"sk-estimator-id-1\" type=\"checkbox\" checked><label for=\"sk-estimator-id-1\" class=\"sk-toggleable__label fitted sk-toggleable__label-arrow fitted\">&nbsp;&nbsp;SVC<a class=\"sk-estimator-doc-link fitted\" rel=\"noreferrer\" target=\"_blank\" href=\"https://scikit-learn.org/1.5/modules/generated/sklearn.svm.SVC.html\">?<span>Documentation for SVC</span></a><span class=\"sk-estimator-doc-link fitted\">i<span>Fitted</span></span></label><div class=\"sk-toggleable__content fitted\"><pre>SVC(random_state=42)</pre></div> </div></div></div></div>"
            ]
          },
          "metadata": {},
          "execution_count": 59
        }
      ]
    },
    {
      "cell_type": "code",
      "source": [
        "# Predict the model on test data\n",
        "log_reg_pred = log_reg.predict(X_test)\n",
        "rf_clf_pred = rf_clf.predict(X_test)\n",
        "svm_clf_pred = svm_clf.predict(X_test)"
      ],
      "metadata": {
        "id": "ce86yts9knOj"
      },
      "execution_count": 63,
      "outputs": []
    },
    {
      "cell_type": "code",
      "source": [
        "# YOUR CODE HERE: To visualise the confusion matrix\n",
        "\n",
        "import seaborn as sns\n",
        "import matplotlib.pyplot as plt\n",
        "from sklearn.metrics import confusion_matrix\n",
        "\n",
        "# Step 1: Calculate confusion matrix for each model\n",
        "log_reg_cm = confusion_matrix(y_test, log_reg_pred)\n",
        "rf_clf_cm = confusion_matrix(y_test, rf_clf_pred)\n",
        "svm_clf_cm = confusion_matrix(y_test, svm_clf_pred)\n",
        "\n",
        "# Step 2: Create a function to plot confusion matrix\n",
        "def plot_confusion_matrix(cm, title='Confusion Matrix'):\n",
        "    plt.figure(figsize=(8, 6))\n",
        "    sns.heatmap(cm, annot=True, fmt='g', cmap='Blues', cbar=False)\n",
        "    plt.xlabel('Predicted labels')\n",
        "    plt.ylabel('True labels')\n",
        "    plt.title(title)\n",
        "    plt.show()\n",
        "\n",
        "# Step 3: Visualize confusion matrices for each model\n",
        "# Logistic Regression Confusion Matrix\n",
        "plot_confusion_matrix(log_reg_cm, title='Logistic Regression Confusion Matrix')\n",
        "\n",
        "# Random Forest Confusion Matrix\n",
        "plot_confusion_matrix(rf_clf_cm, title='Random Forest Confusion Matrix')\n",
        "\n",
        "# SVM Confusion Matrix\n",
        "plot_confusion_matrix(svm_clf_cm, title='SVM Confusion Matrix')"
      ],
      "metadata": {
        "id": "gKsxkmFlko6f",
        "colab": {
          "base_uri": "https://localhost:8080/",
          "height": 1000
        },
        "outputId": "8ca576e9-0ffe-4fa9-f6c3-cf9a2e75d8a4"
      },
      "execution_count": 61,
      "outputs": [
        {
          "output_type": "display_data",
          "data": {
            "text/plain": [
              "<Figure size 800x600 with 1 Axes>"
            ],
            "image/png": "[encoded data removed]"
          },
          "metadata": {}
        },
        {
          "output_type": "display_data",
          "data": {
            "text/plain": [
              "<Figure size 800x600 with 1 Axes>"
            ],
            "image/png": "[encoded data removed]"
          },
          "metadata": {}
        },
        {
          "output_type": "display_data",
          "data": {
            "text/plain": [
              "<Figure size 800x600 with 1 Axes>"
            ],
            "image/png": "[encoded data removed]"
          },
          "metadata": {}
        }
      ]
    },
    {
      "cell_type": "code",
      "source": [
        "# YOUR CODE HERE: To print the classification report\n",
        "\n",
        "# Evaluate the models\n",
        "log_reg_accuracy = accuracy_score(y_test, log_reg_pred)\n",
        "rf_clf_accuracy = accuracy_score(y_test, rf_clf_pred)\n",
        "svm_clf_accuracy = accuracy_score(y_test, svm_clf_pred)\n",
        "\n",
        "def evaluate_model(model, X_test, y_test):\n",
        "    # Step 1: Predict the labels on the test set\n",
        "    y_pred = model.predict(X_test)\n",
        "\n",
        "    # Step 2: Print the classification report\n",
        "    print(\"Classification Report:\")\n",
        "    print(classification_report(y_test, y_pred))\n",
        "\n",
        "# Print classification reports for detailed metrics (precision, recall, f1-score)\n",
        "print(\"Logistic Regression Accuracy:\", log_reg_accuracy)\n",
        "print(\"Logistic Regression Classification Report:\\n\", classification_report(y_test, log_reg_pred))\n",
        "\n",
        "print(\"Random Forest Accuracy:\", rf_clf_accuracy)\n",
        "print(\"Random Forest Classification Report:\\n\", classification_report(y_test, rf_clf_pred))\n",
        "\n",
        "print(\"SVM Accuracy:\", svm_clf_accuracy)\n",
        "print(\"SVM Classification Report:\\n\", classification_report(y_test, svm_clf_pred))"
      ],
      "metadata": {
        "id": "kC7wsoCykuAd",
        "colab": {
          "base_uri": "https://localhost:8080/"
        },
        "outputId": "10ee7de0-c352-47c8-8927-2e45e17cd2fd"
      },
      "execution_count": 65,
      "outputs": [
        {
          "output_type": "stream",
          "name": "stdout",
          "text": [
            "Logistic Regression Accuracy: 0.16441441441441443\n",
            "Logistic Regression Classification Report:\n",
            "               precision    recall  f1-score   support\n",
            "\n",
            "           0       0.17      0.12      0.14      1915\n",
            "           1       0.16      0.10      0.12      1847\n",
            "           2       0.17      0.08      0.11      1871\n",
            "           3       0.16      0.29      0.21      1822\n",
            "           4       0.17      0.28      0.21      1788\n",
            "           5       0.15      0.13      0.14      1857\n",
            "\n",
            "    accuracy                           0.16     11100\n",
            "   macro avg       0.16      0.17      0.16     11100\n",
            "weighted avg       0.16      0.16      0.15     11100\n",
            "\n",
            "Random Forest Accuracy: 0.2954954954954955\n",
            "Random Forest Classification Report:\n",
            "               precision    recall  f1-score   support\n",
            "\n",
            "           0       0.28      0.29      0.29      1915\n",
            "           1       0.29      0.31      0.30      1847\n",
            "           2       0.31      0.29      0.30      1871\n",
            "           3       0.28      0.30      0.29      1822\n",
            "           4       0.30      0.29      0.30      1788\n",
            "           5       0.32      0.30      0.31      1857\n",
            "\n",
            "    accuracy                           0.30     11100\n",
            "   macro avg       0.30      0.30      0.30     11100\n",
            "weighted avg       0.30      0.30      0.30     11100\n",
            "\n",
            "SVM Accuracy: 0.1681081081081081\n",
            "SVM Classification Report:\n",
            "               precision    recall  f1-score   support\n",
            "\n",
            "           0       0.00      0.00      0.00      1915\n",
            "           1       0.00      0.00      0.00      1847\n",
            "           2       0.17      0.27      0.21      1871\n",
            "           3       0.17      0.13      0.15      1822\n",
            "           4       0.16      0.16      0.16      1788\n",
            "           5       0.17      0.44      0.25      1857\n",
            "\n",
            "    accuracy                           0.17     11100\n",
            "   macro avg       0.11      0.17      0.13     11100\n",
            "weighted avg       0.11      0.17      0.13     11100\n",
            "\n"
          ]
        },
        {
          "output_type": "stream",
          "name": "stderr",
          "text": [
            "/usr/local/lib/python3.10/dist-packages/sklearn/metrics/_classification.py:1531: UndefinedMetricWarning: Precision is ill-defined and being set to 0.0 in labels with no predicted samples. Use `zero_division` parameter to control this behavior.\n",
            "  _warn_prf(average, modifier, f\"{metric.capitalize()} is\", len(result))\n",
            "/usr/local/lib/python3.10/dist-packages/sklearn/metrics/_classification.py:1531: UndefinedMetricWarning: Precision is ill-defined and being set to 0.0 in labels with no predicted samples. Use `zero_division` parameter to control this behavior.\n",
            "  _warn_prf(average, modifier, f\"{metric.capitalize()} is\", len(result))\n",
            "/usr/local/lib/python3.10/dist-packages/sklearn/metrics/_classification.py:1531: UndefinedMetricWarning: Precision is ill-defined and being set to 0.0 in labels with no predicted samples. Use `zero_division` parameter to control this behavior.\n",
            "  _warn_prf(average, modifier, f\"{metric.capitalize()} is\", len(result))\n"
          ]
        }
      ]
    },
    {
      "cell_type": "markdown",
      "source": [
        "### Report Your Observations"
      ],
      "metadata": {
        "id": "uLohHKeVwSQu"
      }
    },
    {
      "cell_type": "code",
      "source": [
        " # Your Observations here in text:\n",
        " Random Forest is generally the best choice for this task based on the provided evaluation metrics.\n",
        " It provides the best overall performance in terms of accuracy, precision, recall, and F1-score."
      ],
      "metadata": {
        "id": "5mqAAhcnwReN"
      },
      "execution_count": null,
      "outputs": []
    }
  ]
}